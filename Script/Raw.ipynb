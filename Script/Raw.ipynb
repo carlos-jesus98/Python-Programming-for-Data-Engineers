{
 "cells": [
  {
   "cell_type": "code",
   "execution_count": null,
   "id": "54326936",
   "metadata": {},
   "outputs": [],
   "source": [
    "import requests\n",
    "import json"
   ]
  }
 ],
 "metadata": {
  "language_info": {
   "name": "python"
  }
 },
 "nbformat": 4,
 "nbformat_minor": 5
}
