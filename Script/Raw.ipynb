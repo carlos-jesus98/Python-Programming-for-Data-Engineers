{
 "cells": [
  {
   "cell_type": "code",
   "execution_count": null,
   "id": "54326936",
   "metadata": {},
   "outputs": [],
   "source": [
    "!pip install requests\n",
    "!pip install PyYAML"
   ]
  },
  {
   "cell_type": "code",
   "execution_count": 34,
   "id": "6c1fed13",
   "metadata": {},
   "outputs": [],
   "source": [
    "import requests\n",
    "import json\n",
    "import yaml  \n",
    "import logging\n",
    "from pathlib import Path\n",
    "from datetime import datetime"
   ]
  },
  {
   "cell_type": "code",
   "execution_count": 17,
   "id": "847bf78b",
   "metadata": {},
   "outputs": [],
   "source": [
    "logging.basicConfig(\n",
    "    level=logging.INFO, \n",
    "    format='%(asctime)s - %(levelname)s - %(message)s', \n",
    "    filename='Raw.log', \n",
    "    encoding='utf-8', \n",
    "    filemode='a'\n",
    ")"
   ]
  },
  {
   "cell_type": "code",
   "execution_count": 18,
   "id": "b67bbfbd",
   "metadata": {},
   "outputs": [],
   "source": [
    "logging.info(\"Script iniciado. Tentando carregar as configurações.\")"
   ]
  },
  {
   "cell_type": "code",
   "execution_count": 19,
   "id": "12f70e4a",
   "metadata": {},
   "outputs": [],
   "source": [
    "try:\n",
    "    with open(r\"C:\\Users\\Carlos Vinicius\\Documents\\Impacta\\Aulas\\Python Programming for Data Engineers v2\\YAML\\config.yaml\",\"r\") as file:\n",
    "        config=yaml.safe_load(file)\n",
    "        api_key = config[\"api_key\"]\n",
    "        logging.info(\"Arquivo de configuração 'config.yaml' carregado com sucesso.\")\n",
    "except FileNotFoundError:\n",
    "    logging.critical(\"Arquivo 'config.yaml' não foi encontrado. O programa será encerrado.\")\n",
    "    exit()\n",
    "except KeyError:\n",
    "    logging.critical(\"A chave 'api_key' não foi encontrada no 'config.yaml'. O programa será encerrado.\")\n",
    "    exit()"
   ]
  },
  {
   "cell_type": "code",
   "execution_count": 35,
   "id": "db7cffb4",
   "metadata": {},
   "outputs": [],
   "source": [
    "base_currency = \"USD\"\n",
    "url = f\"https://v6.exchangerate-api.com/v6/{api_key}/latest/{base_currency}\"\n",
    "logging.debug(f\"URL da API construída: {url}\")\n",
    "output_dir2 = r\"C:\\Users\\Carlos Vinicius\\Documents\\Impacta\\Aulas\\Python Programming for Data Engineers v2\\Raw\"\n",
    "output_dir = Path(output_dir2)"
   ]
  },
  {
   "cell_type": "code",
   "execution_count": 38,
   "id": "8732330b",
   "metadata": {},
   "outputs": [],
   "source": [
    "def resultado_api(moeda, data):\n",
    "    try:\n",
    "        logging.info(f\"Fazendo requisição para a API para a moeda base: {base_currency}\")\n",
    "        response = requests.get(url)\n",
    "        response.raise_for_status()\n",
    "\n",
    "        data = response.json()\n",
    "        logging.info(\"Resposta da API recebida e decodificada com sucesso.\")\n",
    "\n",
    "        if data.get(\"result\") == \"success\":\n",
    "        \n",
    "            try:\n",
    "                # Cria um nome de arquivo com a data e hora atual para ser único\n",
    "                timestamp = datetime.now().strftime(\"%Y%m%d-%H%M%S\")\n",
    "            \n",
    "                filename = f\"api_response_{timestamp}.json\"\n",
    "                full_path = output_dir / filename\n",
    "            \n",
    "                logging.info(f\"Salvando resposta bruta da API no arquivo: {filename}\")\n",
    "            \n",
    "                with open(full_path, 'w', encoding='utf-8') as json_file:\n",
    "                    # json.dump() escreve o objeto python (data) diretamente no arquivo (json_file)\n",
    "                    # indent=4 formata o arquivo para ser legível por humanos\n",
    "                    # ensure_ascii=False garante que caracteres como '€' sejam salvos corretamente\n",
    "                    json.dump(data, json_file, indent=4, ensure_ascii=False)\n",
    "            \n",
    "                logging.info(f\"Dados salvos com sucesso em '{filename}'.\")\n",
    "\n",
    "            except Exception as e:\n",
    "                logging.error(f\"Ocorreu um erro ao tentar salvar o arquivo JSON: {e}\")\n",
    "            # --- FIM DA NOVA SEÇÃO ---\n",
    "\n",
    "            # O processamento dos dados continua normalmente\n",
    "            conversion_rates = data[\"conversion_rates\"]\n",
    "            logging.info(\"Taxas de conversão extraídas com sucesso.\")\n",
    "\n",
    "            real_brasileiro = conversion_rates[\"BRL\"]\n",
    "            euro = conversion_rates[\"EUR\"]\n",
    "\n",
    "            logging.info(f\"Cotação encontrada: 1 {base_currency} = {real_brasileiro} BRL\")\n",
    "            logging.info(f\"Cotação encontrada: 1 {base_currency} = {euro} EUR\")\n",
    "\n",
    "        else:\n",
    "            error_type = data.get(\"error-type\", \"desconhecido\")\n",
    "            logging.error(f\"A API retornou um erro do tipo: {error_type}\")\n",
    "\n",
    "    except requests.exceptions.RequestException:\n",
    "        logging.exception(\"Falha na comunicação com a API. Verifique a conexão ou a URL.\")\n",
    "    except KeyError as e:\n",
    "        logging.warning(f\"A moeda {e} não foi encontrada nas taxas de conversão retornadas.\")\n",
    "\n",
    "logging.info(\"Script finalizado.\")"
   ]
  },
  {
   "cell_type": "code",
   "execution_count": null,
   "id": "cae2d338",
   "metadata": {},
   "outputs": [],
   "source": []
  }
 ],
 "metadata": {
  "kernelspec": {
   "display_name": "Python 3",
   "language": "python",
   "name": "python3"
  },
  "language_info": {
   "codemirror_mode": {
    "name": "ipython",
    "version": 3
   },
   "file_extension": ".py",
   "mimetype": "text/x-python",
   "name": "python",
   "nbconvert_exporter": "python",
   "pygments_lexer": "ipython3",
   "version": "3.12.9"
  }
 },
 "nbformat": 4,
 "nbformat_minor": 5
}
