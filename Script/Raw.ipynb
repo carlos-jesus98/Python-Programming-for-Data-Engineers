{
 "cells": [
  {
   "cell_type": "code",
   "execution_count": 39,
   "id": "54326936",
   "metadata": {},
   "outputs": [
    {
     "name": "stdout",
     "output_type": "stream",
     "text": [
      "Requirement already satisfied: requests in c:\\users\\carlos vinicius\\appdata\\local\\programs\\python\\python312\\lib\\site-packages (2.32.3)\n",
      "Requirement already satisfied: charset-normalizer<4,>=2 in c:\\users\\carlos vinicius\\appdata\\local\\programs\\python\\python312\\lib\\site-packages (from requests) (3.4.1)\n",
      "Requirement already satisfied: idna<4,>=2.5 in c:\\users\\carlos vinicius\\appdata\\local\\programs\\python\\python312\\lib\\site-packages (from requests) (3.10)\n",
      "Requirement already satisfied: urllib3<3,>=1.21.1 in c:\\users\\carlos vinicius\\appdata\\local\\programs\\python\\python312\\lib\\site-packages (from requests) (2.3.0)\n",
      "Requirement already satisfied: certifi>=2017.4.17 in c:\\users\\carlos vinicius\\appdata\\local\\programs\\python\\python312\\lib\\site-packages (from requests) (2025.1.31)\n",
      "Requirement already satisfied: PyYAML in c:\\users\\carlos vinicius\\appdata\\local\\programs\\python\\python312\\lib\\site-packages (6.0.2)\n"
     ]
    }
   ],
   "source": [
    "!pip install requests\n",
    "!pip install PyYAML"
   ]
  },
  {
   "cell_type": "code",
   "execution_count": 2,
   "id": "6c1fed13",
   "metadata": {},
   "outputs": [],
   "source": [
    "import requests\n",
    "import json\n",
    "import yaml  \n",
    "import logging\n",
    "from pathlib import Path\n",
    "from datetime import datetime"
   ]
  },
  {
   "cell_type": "code",
   "execution_count": 3,
   "id": "847bf78b",
   "metadata": {},
   "outputs": [],
   "source": [
    "logging.basicConfig(\n",
    "    level=logging.INFO, \n",
    "    format='%(asctime)s - %(levelname)s - %(message)s', \n",
    "    filename='Raw.log', \n",
    "    encoding='utf-8', \n",
    "    filemode='a'\n",
    ")"
   ]
  },
  {
   "cell_type": "code",
   "execution_count": 4,
   "id": "b67bbfbd",
   "metadata": {},
   "outputs": [],
   "source": [
    "logging.info(\"Script iniciado. Tentando carregar as configurações.\")"
   ]
  },
  {
   "cell_type": "code",
   "execution_count": 5,
   "id": "12f70e4a",
   "metadata": {},
   "outputs": [],
   "source": [
    "try:\n",
    "    with open(r\"C:\\Users\\Carlos Vinicius\\Documents\\Impacta\\Aulas\\Python Programming for Data Engineers v2\\YAML\\config.yaml\",\"r\") as file:\n",
    "        config=yaml.safe_load(file)\n",
    "        api_key = config[\"api_key\"]\n",
    "        logging.info(\"Arquivo de configuração 'config.yaml' carregado com sucesso.\")\n",
    "except KeyError:\n",
    "    logging.critical(\"A chave 'api_key' não foi encontrada no 'config.yaml'. O programa será encerrado.\")\n",
    "    exit()"
   ]
  },
  {
   "cell_type": "code",
   "execution_count": null,
   "id": "db7cffb4",
   "metadata": {},
   "outputs": [],
   "source": [
    "base_currency = \"USD\"\n",
    "#url = f\"https://v6.exchangerate-api.com/v6/{api_key}/latest/{base_currency}\"\n",
    "logging.debug(f\"URL da API construída: {url}\")\n",
    "output_dir2 = r\"C:\\Users\\Carlos Vinicius\\Documents\\Impacta\\Aulas\\Python Programming for Data Engineers v2\\Raw\"\n",
    "output_dir = Path(output_dir2)"
   ]
  },
  {
   "cell_type": "code",
   "execution_count": 16,
   "id": "9f69c272",
   "metadata": {},
   "outputs": [],
   "source": [
    "def resultado_api(moeda):\n",
    "    url = f\"https://v6.exchangerate-api.com/v6/{api_key}/latest/{moeda}\"\n",
    "    try:\n",
    "        response = requests.get(url)\n",
    "        response.raise_for_status()\n",
    "\n",
    "        data = response.json()\n",
    "\n",
    "        if data.get(\"result\") == \"success\":\n",
    "\n",
    "            try:\n",
    "                timestamp = datetime.now().strftime(\"%Y%m%d\")\n",
    "                filename = f\"api_response_{timestamp}.json\"\n",
    "                full_path = output_dir / filename\n",
    "                \n",
    "                with open(full_path, 'w', encoding='utf-8') as json_file:\n",
    "                    json.dump(data, json_file, indent=4, ensure_ascii=False)\n",
    "                logging.info(f\"Dados salvos com sucesso em '{filename}'.\")\n",
    "            except Exception as e:\n",
    "                logging.error(f\"Ocorreu um erro ao tentar salvar o arquivo JSON: {e}\")\n",
    "    except KeyError as e:\n",
    "        logging.warning(f\"A moeda {e} não foi encontrada nas taxas de conversão retornadas.\")\n",
    "    logging.info(\"Script finalizado.\")"
   ]
  }
 ],
 "metadata": {
  "kernelspec": {
   "display_name": "Python 3",
   "language": "python",
   "name": "python3"
  },
  "language_info": {
   "codemirror_mode": {
    "name": "ipython",
    "version": 3
   },
   "file_extension": ".py",
   "mimetype": "text/x-python",
   "name": "python",
   "nbconvert_exporter": "python",
   "pygments_lexer": "ipython3",
   "version": "3.12.9"
  }
 },
 "nbformat": 4,
 "nbformat_minor": 5
}
