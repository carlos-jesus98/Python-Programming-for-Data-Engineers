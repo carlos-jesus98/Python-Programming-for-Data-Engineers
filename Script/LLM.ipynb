{
 "cells": [
  {
   "cell_type": "code",
   "execution_count": null,
   "id": "5e263dc3",
   "metadata": {},
   "outputs": [],
   "source": [
    "import google.generativeai as genai\n",
    "import yaml \n",
    "import os\n",
    "from IPython.display import display, Markdown\n",
    "import pandas as pd"
   ]
  },
  {
   "cell_type": "code",
   "execution_count": null,
   "id": "355e4eec",
   "metadata": {},
   "outputs": [],
   "source": [
    "with open(r\"C:\\Users\\Carlos Vinicius\\Documents\\Impacta\\Aulas\\Python Programming for Data Engineers v2\\YAML\\config.yaml\",\"r\") as file:\n",
    "            config=yaml.safe_load(file)\n",
    "            ai_key = config[\"ai_key\"]"
   ]
  },
  {
   "cell_type": "code",
   "execution_count": null,
   "id": "d25fd797",
   "metadata": {},
   "outputs": [],
   "source": [
    "df = pd.read_parquet(r\"C:\\Users\\Carlos Vinicius\\Documents\\Impacta\\Aulas\\Python Programming for Data Engineers v2\\Refined\\USD.parquet\")\n",
    "df = df[df[\"target_currency\"] == 'JPY']\n",
    "print(df)"
   ]
  },
  {
   "cell_type": "code",
   "execution_count": null,
   "id": "980787e9",
   "metadata": {},
   "outputs": [],
   "source": [
    "taxa = df[\"rate\"]"
   ]
  },
  {
   "cell_type": "code",
   "execution_count": null,
   "id": "104b7cc9",
   "metadata": {},
   "outputs": [],
   "source": [
    "genai.configure(api_key=ai_key)\n",
    "model = genai.GenerativeModel('gemini-2.5-pro')"
   ]
  },
  {
   "cell_type": "code",
   "execution_count": null,
   "id": "49174986",
   "metadata": {},
   "outputs": [],
   "source": [
    "# 2. Envie seu prompt para o modelo\n",
    "prompt = f\"Aja como um consultor financeiro preparando um resumo para um executivo que não tem tempo a perder. Use os dados abaixo para responder de forma clara e direta à seguinte pergunta: Explique em termos simples como está a variação das 5 principais moedas frente ao Dolar hoje.\"\n",
    "response = model.generate_content(prompt)\n",
    "\n",
    "# 3. Imprima a resposta\n",
    "print(response.text)"
   ]
  }
 ],
 "metadata": {
  "kernelspec": {
   "display_name": "Python 3",
   "language": "python",
   "name": "python3"
  },
  "language_info": {
   "codemirror_mode": {
    "name": "ipython",
    "version": 3
   },
   "file_extension": ".py",
   "mimetype": "text/x-python",
   "name": "python",
   "nbconvert_exporter": "python",
   "pygments_lexer": "ipython3",
   "version": "3.12.9"
  }
 },
 "nbformat": 4,
 "nbformat_minor": 5
}
