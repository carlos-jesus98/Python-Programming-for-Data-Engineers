{
 "cells": [
  {
   "cell_type": "code",
   "execution_count": null,
   "id": "5e263dc3",
   "metadata": {},
   "outputs": [],
   "source": [
    "import google.generativeai as genai\n",
    "import yaml \n",
    "import os\n",
    "from IPython.display import display, Markdown"
   ]
  },
  {
   "cell_type": "code",
   "execution_count": null,
   "id": "355e4eec",
   "metadata": {},
   "outputs": [],
   "source": [
    "with open(r\".\\YAML\\config.yaml\",\"r\") as file:\n",
    "            config=yaml.safe_load(file)\n",
    "            ai_key = config[\"ai_key\"]"
   ]
  },
  {
   "cell_type": "code",
   "execution_count": null,
   "id": "104b7cc9",
   "metadata": {},
   "outputs": [],
   "source": [
    "genai.configure(api_key=ai_key)\n",
    "model = genai.GenerativeModel('gemini-2.5-pro')"
   ]
  },
  {
   "cell_type": "code",
   "execution_count": null,
   "id": "49174986",
   "metadata": {},
   "outputs": [],
   "source": [
    "# 2. Envie seu prompt para o modelo\n",
    "prompt = \"Explique o que é a Teoria da Relatividade de Einstein para uma criança de 10 anos.\"\n",
    "response = model.generate_content(prompt)\n",
    "\n",
    "# 3. Imprima a resposta\n",
    "print(response.text)"
   ]
  }
 ],
 "metadata": {
  "kernelspec": {
   "display_name": "Python 3",
   "language": "python",
   "name": "python3"
  },
  "language_info": {
   "codemirror_mode": {
    "name": "ipython",
    "version": 3
   },
   "file_extension": ".py",
   "mimetype": "text/x-python",
   "name": "python",
   "nbconvert_exporter": "python",
   "pygments_lexer": "ipython3",
   "version": "3.12.9"
  }
 },
 "nbformat": 4,
 "nbformat_minor": 5
}
