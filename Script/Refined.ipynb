{
 "cells": [
  {
   "cell_type": "code",
   "execution_count": 1,
   "id": "6ac7b16c",
   "metadata": {},
   "outputs": [],
   "source": [
    "import pandas as pd\n",
    "import logging\n",
    "import yaml  \n",
    "import os\n",
    "import json\n",
    "from datetime import datetime\n",
    "from pathlib import Path"
   ]
  },
  {
   "cell_type": "code",
   "execution_count": 2,
   "id": "5b987283",
   "metadata": {},
   "outputs": [],
   "source": [
    "path = r\"C:\\Users\\Carlos Vinicius\\Documents\\Impacta\\Aulas\\Python Programming for Data Engineers v2\\Raw\"\n",
    "output_dir = Path(path)\n",
    "timestamp = datetime.now().strftime(\"%Y%m%d\")\n",
    "filename = f\"api_response_{timestamp}.json\"\n",
    "\n",
    "full_path = output_dir / filename\n",
    "trusted = r\"C:\\Users\\Carlos Vinicius\\Documents\\Impacta\\Aulas\\Python Programming for Data Engineers v2\\Trusted\"\n",
    "trusted_path = Path(trusted)\n"
   ]
  },
  {
   "cell_type": "code",
   "execution_count": 3,
   "id": "985fc4cc",
   "metadata": {},
   "outputs": [],
   "source": [
    "with open(full_path,'r', encoding='utf-8') as arquivo:\n",
    "    raw_data = json.load(arquivo)"
   ]
  },
  {
   "cell_type": "code",
   "execution_count": 4,
   "id": "48f0f6c5",
   "metadata": {},
   "outputs": [],
   "source": [
    "base_currency = raw_data.get(\"base_code\")\n",
    "conversion_rates = raw_data[\"conversion_rates\"]\n",
    "timestamp = raw_data.get(\"time_last_update_unix\")"
   ]
  },
  {
   "cell_type": "code",
   "execution_count": 5,
   "id": "4543f761",
   "metadata": {},
   "outputs": [],
   "source": [
    "raw = []\n",
    "for currency, rate in conversion_rates.items():\n",
    "    raw.append({\n",
    "                \"base_currency\": base_currency,\n",
    "                \"target_currency\": currency,\n",
    "                \"rate\": rate,\n",
    "                \"timestamp\": timestamp\n",
    "            })"
   ]
  },
  {
   "cell_type": "code",
   "execution_count": 6,
   "id": "873a8320",
   "metadata": {},
   "outputs": [],
   "source": [
    "df = pd.DataFrame(raw)"
   ]
  },
  {
   "cell_type": "code",
   "execution_count": 7,
   "id": "5a4044ee",
   "metadata": {},
   "outputs": [],
   "source": [
    "df = df[df[\"rate\"] > 0]"
   ]
  },
  {
   "cell_type": "code",
   "execution_count": 9,
   "id": "ec7353e1",
   "metadata": {},
   "outputs": [],
   "source": [
    "\n",
    "truste_file = f\"{base_currency}.parquet\"\n",
    "#filename = f\"api_response_{timestamp}.json\"\n",
    "trusted_file_path = trusted_path / truste_file\n",
    "df.to_parquet(trusted_file_path)\n"
   ]
  }
 ],
 "metadata": {
  "kernelspec": {
   "display_name": "Python 3",
   "language": "python",
   "name": "python3"
  },
  "language_info": {
   "codemirror_mode": {
    "name": "ipython",
    "version": 3
   },
   "file_extension": ".py",
   "mimetype": "text/x-python",
   "name": "python",
   "nbconvert_exporter": "python",
   "pygments_lexer": "ipython3",
   "version": "3.12.9"
  }
 },
 "nbformat": 4,
 "nbformat_minor": 5
}
