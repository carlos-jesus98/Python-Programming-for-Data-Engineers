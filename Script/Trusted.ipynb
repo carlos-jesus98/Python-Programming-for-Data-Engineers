{
 "cells": [
  {
   "cell_type": "code",
   "execution_count": 2,
   "id": "ab644ef6",
   "metadata": {},
   "outputs": [],
   "source": [
    "import pandas as pd\n",
    "from pathlib import Path"
   ]
  },
  {
   "cell_type": "code",
   "execution_count": 11,
   "id": "fbf2c17f",
   "metadata": {},
   "outputs": [],
   "source": [
    "trusted = r\"C:\\Users\\Carlos Vinicius\\Documents\\Impacta\\Aulas\\Python Programming for Data Engineers v2\\Trusted\"\n",
    "refined = r\"C:\\Users\\Carlos Vinicius\\Documents\\Impacta\\Aulas\\Python Programming for Data Engineers v2\\Refined\"\n",
    "trusted_path = Path(trusted)\n",
    "refined_path = Path(refined)\n",
    "truste_file_csv = \"USD.csv\"\n",
    "truste_file_parquet = \"USD.parquet\"\n",
    "trusted_file_path_csv = trusted_path / truste_file_csv\n",
    "trusted_file_path_parquet = refined_path / truste_file_parquet\n",
    "\n",
    "df = pd.read_csv(trusted_file_path_csv,sep=\"|\")\n",
    "df.to_parquet(trusted_file_path_parquet)"
   ]
  }
 ],
 "metadata": {
  "kernelspec": {
   "display_name": "Python 3",
   "language": "python",
   "name": "python3"
  },
  "language_info": {
   "codemirror_mode": {
    "name": "ipython",
    "version": 3
   },
   "file_extension": ".py",
   "mimetype": "text/x-python",
   "name": "python",
   "nbconvert_exporter": "python",
   "pygments_lexer": "ipython3",
   "version": "3.12.9"
  }
 },
 "nbformat": 4,
 "nbformat_minor": 5
}
